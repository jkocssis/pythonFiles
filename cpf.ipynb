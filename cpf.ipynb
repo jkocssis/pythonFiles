{
 "metadata": {
  "language_info": {
   "codemirror_mode": {
    "name": "ipython",
    "version": 3
   },
   "file_extension": ".py",
   "mimetype": "text/x-python",
   "name": "python",
   "nbconvert_exporter": "python",
   "pygments_lexer": "ipython3",
   "version": "3.9.5"
  },
  "orig_nbformat": 4,
  "kernelspec": {
   "name": "python3",
   "display_name": "Python 3.9.5 64-bit"
  },
  "interpreter": {
   "hash": "e07df96b3f266ef164247629989a77b549ffae4256bdff1f057657972b50e11f"
  }
 },
 "nbformat": 4,
 "nbformat_minor": 2,
 "cells": [
  {
   "cell_type": "code",
   "execution_count": 1,
   "metadata": {},
   "outputs": [],
   "source": [
    "import re"
   ]
  },
  {
   "cell_type": "code",
   "execution_count": 6,
   "metadata": {},
   "outputs": [
    {
     "output_type": "stream",
     "name": "stdout",
     "text": [
      "o numero encontrado: 415-555-4245\n"
     ]
    }
   ],
   "source": [
    "phoneRegex = re.compile(r'\\d{3}-\\d{3}-\\d{4}')\n",
    "mo = phoneRegex.search('meu numero e 415-555-4245.')\n",
    "print('o numero encontrado: '+ mo.group())"
   ]
  }
 ]
}